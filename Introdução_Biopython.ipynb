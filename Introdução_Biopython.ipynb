{
  "nbformat": 4,
  "nbformat_minor": 0,
  "metadata": {
    "colab": {
      "name": "Introdução_Biopython.ipynb",
      "provenance": [],
      "collapsed_sections": [],
      "authorship_tag": "ABX9TyMxKa2X2OxXAhAsk6Ghi0Wy",
      "include_colab_link": true
    },
    "kernelspec": {
      "name": "python3",
      "display_name": "Python 3"
    },
    "language_info": {
      "name": "python"
    }
  },
  "cells": [
    {
      "cell_type": "markdown",
      "metadata": {
        "id": "view-in-github",
        "colab_type": "text"
      },
      "source": [
        "<a href=\"https://colab.research.google.com/github/andersonnb6/ColabPython-Tutoriais/blob/main/Introdu%C3%A7%C3%A3o_Biopython.ipynb\" target=\"_parent\"><img src=\"https://colab.research.google.com/assets/colab-badge.svg\" alt=\"Open In Colab\"/></a>"
      ]
    },
    {
      "cell_type": "markdown",
      "source": [
        "# **Biopython-Analysis**"
      ],
      "metadata": {
        "id": "lJtBveMBl5dx"
      }
    },
    {
      "cell_type": "markdown",
      "metadata": {
        "id": "fO6DQHUQnGcb"
      },
      "source": [
        "### Instação de pacotes"
      ]
    },
    {
      "cell_type": "code",
      "execution_count": null,
      "metadata": {
        "id": "3Fougp2pnGcg"
      },
      "outputs": [],
      "source": [
        "%pip install biopython"
      ]
    },
    {
      "cell_type": "markdown",
      "source": [
        "### Importação de pacotes e métodos"
      ],
      "metadata": {
        "id": "przRVknwo2QC"
      }
    },
    {
      "cell_type": "code",
      "source": [
        "from Bio.Seq import Seq\n",
        "from Bio import SeqIO\n",
        "from Bio.SeqRecord import SeqRecord\n",
        "from Bio.SeqUtils import GC\n",
        "import requests"
      ],
      "metadata": {
        "id": "wv_oKa0Tl4_h"
      },
      "execution_count": null,
      "outputs": []
    },
    {
      "cell_type": "markdown",
      "source": [
        "# **PARTE 1 - Manipulando sequências individuais**"
      ],
      "metadata": {
        "id": "6hgfsklmtQxP"
      }
    },
    {
      "cell_type": "code",
      "metadata": {
        "id": "RveutaR2NFiE",
        "colab": {
          "base_uri": "https://localhost:8080/"
        },
        "outputId": "c351b01c-676a-4e04-bb7e-ea513ef135ab"
      },
      "source": [
        "# Importando módulo de manipulação básica de sequências\n",
        "# Já foi importado antes, mas segue abaixo\n",
        "from Bio.Seq import Seq\n",
        "\n",
        "# Declarando uma sequência\n",
        "myseq = Seq(\"ACGTAGCTACGATCACAGCTA\")\n",
        "print(f\">sequence\\n{myseq}\\n\")\n",
        "\n",
        "# Reverso\n",
        "revers = myseq[::-1]\n",
        "print(f\">reverse\\n{revers}\\n\")\n",
        "\n",
        "# Reverso complementar\n",
        "revcomp = myseq.reverse_complement()\n",
        "print(f\">reverse_complemet\\n{revcomp}\\n\")\n",
        "\n",
        "# Transcrição\n",
        "rna = myseq.transcribe()\n",
        "print(f\">rna\\n{rna}\\n\")\n",
        "\n",
        "# Tradução a partir do RNA\n",
        "protein = myseq.translate()\n",
        "print(f\">translate\\n{protein}\\n\")"
      ],
      "execution_count": null,
      "outputs": [
        {
          "output_type": "stream",
          "name": "stdout",
          "text": [
            ">sequence\n",
            "ACGTAGCTACGATCACAGCTA\n",
            "\n",
            ">reverse\n",
            "ATCGACACTAGCATCGATGCA\n",
            "\n",
            ">reverse_complemet\n",
            "TAGCTGTGATCGTAGCTACGT\n",
            "\n",
            ">rna\n",
            "ACGUAGCUACGAUCACAGCUA\n",
            "\n",
            ">translate\n",
            "T*LRSQL\n",
            "\n"
          ]
        }
      ]
    },
    {
      "cell_type": "code",
      "metadata": {
        "colab": {
          "base_uri": "https://localhost:8080/"
        },
        "id": "qiuNfZVSwnMD",
        "outputId": "4c0a8c08-c948-4959-804f-33816e05e074"
      },
      "source": [
        "# Importando módulo que calcula conteúdo GC\n",
        "# Já foi importado antes, mas segue abaixo\n",
        "from Bio.SeqUtils import GC\n",
        "\n",
        "# Declarando uma sequência\n",
        "myseq = Seq(\"ACGTAGCTACGATCACAGCTA\")\n",
        "print(f\">sequence\\n{myseq}\\n\")\n",
        "\n",
        "# Obtendo posição da cada nucleotídeo\n",
        "print(\"Obtendo posição da cada nucleotídeo\")\n",
        "for i, n in enumerate(myseq):\n",
        "  print(i, n)\n",
        "\n",
        "# Buscar substrings\n",
        "print(\"\\nQuantas vezes ocorre TACGA na sequencia\")\n",
        "print(myseq.count('TACGA'))\n",
        "\n",
        "# Contando contaúdo de GC\n",
        "print(\"\\nConteúdo GC\")\n",
        "print(GC(myseq))\n",
        "\n",
        "# Converter objetos de sequência em strings\n",
        "print(\"\\nConvertendo objetos Seq em strings\")\n",
        "myseq2 = str(myseq)\n",
        "print(type(myseq2))\n",
        "\n",
        "# Converter strings em objetos de sequência\n",
        "print(\"\\nConverter strings em objetos de sequência\")\n",
        "myseq2 = Seq(myseq2)\n",
        "print(type(myseq2))\n",
        "\n",
        "# Unir sequencias \n",
        "print(\"\\nUnindo sequencias\")\n",
        "seqs = myseq2 + myseq2\n",
        "print(seqs)\n",
        "\n",
        "# verificando se strings são iguais\n",
        "print(\"\\nComparando sequências\")\n",
        "myseq == myseq2"
      ],
      "execution_count": null,
      "outputs": [
        {
          "output_type": "stream",
          "name": "stdout",
          "text": [
            ">sequence\n",
            "ACGTAGCTACGATCACAGCTA\n",
            "\n",
            "Obtendo posição da cada nucleotídeo\n",
            "0 A\n",
            "1 C\n",
            "2 G\n",
            "3 T\n",
            "4 A\n",
            "5 G\n",
            "6 C\n",
            "7 T\n",
            "8 A\n",
            "9 C\n",
            "10 G\n",
            "11 A\n",
            "12 T\n",
            "13 C\n",
            "14 A\n",
            "15 C\n",
            "16 A\n",
            "17 G\n",
            "18 C\n",
            "19 T\n",
            "20 A\n",
            "\n",
            "Quantas vezes ocorre TACGA na sequencia\n",
            "1\n",
            "\n",
            "Conteúdo GC\n",
            "47.61904761904762\n",
            "\n",
            "Convertendo objetos Seq em strings\n",
            "<class 'str'>\n",
            "\n",
            "Converter strings em objetos de sequência\n",
            "<class 'Bio.Seq.Seq'>\n",
            "\n",
            "Unindo sequencias\n",
            "ACGTAGCTACGATCACAGCTAACGTAGCTACGATCACAGCTA\n",
            "\n",
            "Comparando sequências\n"
          ]
        },
        {
          "output_type": "execute_result",
          "data": {
            "text/plain": [
              "True"
            ]
          },
          "metadata": {},
          "execution_count": 4
        }
      ]
    },
    {
      "cell_type": "markdown",
      "source": [
        "# **PARTE 2 - Manipulando arquivos de sequências**"
      ],
      "metadata": {
        "id": "nTVfvVEvyzJ0"
      }
    },
    {
      "cell_type": "markdown",
      "source": [
        "### Importando arquivo fasta de exemplo"
      ],
      "metadata": {
        "id": "0GE2NemKnBdH"
      }
    },
    {
      "cell_type": "code",
      "source": [
        "# Acessando url\n",
        "url = 'https://raw.githubusercontent.com/andersonnb6/Biopython-Analysis/main/seq_examples.fasta'\n",
        "\n",
        "# Download do conteúdo\n",
        "example_file = requests.get(url, allow_redirects=True)\n",
        "\n",
        "# Salvando arquivo\n",
        "open('sequences.fasta', 'wb').write(example_file.content)\n",
        "example_file.close()"
      ],
      "metadata": {
        "id": "heJYUV_WnB-B"
      },
      "execution_count": null,
      "outputs": []
    },
    {
      "cell_type": "markdown",
      "source": [
        "###Abrindo arquivo e visualizando conteúdo"
      ],
      "metadata": {
        "id": "JvqyBLEYlwGg"
      }
    },
    {
      "cell_type": "code",
      "source": [
        "# Abrindo arquivo\n",
        "myfile = SeqIO.parse('sequences.fasta', 'fasta')\n",
        "\n",
        "# Mostrando o que contém no arquivo\n",
        "for i in myfile:\n",
        "  print(i)"
      ],
      "metadata": {
        "colab": {
          "base_uri": "https://localhost:8080/"
        },
        "id": "1XXFScQZcE7w",
        "outputId": "1246f153-dd21-400f-af71-a830d442a611"
      },
      "execution_count": null,
      "outputs": [
        {
          "output_type": "stream",
          "name": "stdout",
          "text": [
            "ID: NC_019051.1:2063-3046\n",
            "Name: NC_019051.1:2063-3046\n",
            "Description: NC_019051.1:2063-3046 Escherichia coli plasmid pAm05WL6211, complete sequence\n",
            "Number of features: 0\n",
            "Seq('ATGTGTCCTAATAGTAGCATTTATTCAGATGAAAAATCAAGGGTTTTAGTGGAC...TAG')\n",
            "ID: NC_019052.1:2941-3711\n",
            "Name: NC_019052.1:2941-3711\n",
            "Description: NC_019052.1:2941-3711 Escherichia coli plasmid pAm08CQ6130, complete sequence\n",
            "Number of features: 0\n",
            "Seq('ATGAGAATAGTGAATGGACCAATAATAATGACTAGAGAAGAAAGAATGAAGATT...TGA')\n",
            "ID: NC_025021.1:4551-5756\n",
            "Name: NC_025021.1:4551-5756\n",
            "Description: NC_025021.1:4551-5756 Escherichia coli plasmid pGBG1, complete sequence\n",
            "Number of features: 0\n",
            "Seq('ATGAATAGTTCGACAAAGATCGCATTGGTAATTACGTTACTCGATGCCATGGGG...TAG')\n",
            "ID: NC_025021.1:c4202-3489\n",
            "Name: NC_025021.1:c4202-3489\n",
            "Description: NC_025021.1:c4202-3489 Escherichia coli plasmid pGBG1, complete sequence\n",
            "Number of features: 0\n",
            "Seq('ATGAGCACAAAAAAGAAACCATTAACACAAGAGCAGCTTGAGGACGCACGTCGC...TGA')\n"
          ]
        }
      ]
    },
    {
      "cell_type": "markdown",
      "source": [
        "### Filtrando informações de arquivos"
      ],
      "metadata": {
        "id": "DZ3g8gIkl-ls"
      }
    },
    {
      "cell_type": "code",
      "source": [
        "# Abrindo arquivo\n",
        "myfile = SeqIO.parse('sequences.fasta', 'fasta')\n",
        "\n",
        "# Filtrando apenas informações desejadas\n",
        "for i in myfile:\n",
        "  rotulo = i.id\n",
        "  descricao = i.description\n",
        "  sequencia = i.seq\n",
        "  print(f'{rotulo}\\n{sequencia}')"
      ],
      "metadata": {
        "colab": {
          "base_uri": "https://localhost:8080/"
        },
        "id": "mFNjz3sXh46n",
        "outputId": "1e120a09-61e4-4302-8ba7-e7164b6e990a"
      },
      "execution_count": null,
      "outputs": [
        {
          "output_type": "stream",
          "name": "stdout",
          "text": [
            "NC_019051.1:2063-3046\n",
            "ATGTGTCCTAATAGTAGCATTTATTCAGATGAAAAATCAAGGGTTTTAGTGGACAAGACAAAAAGTGGAAAAGTGAGACCATGGAGAGAAAAGAAAATCGCTAATGTTGATTACTTTGAACTTCTGCATATTCTTGAATTTAAAAAGGCTGAAAGAGTAAAAGATTGTGCTGAAATATTAGAGTATAAACAAAATCGTGAAACAGGCGAAAGAAAGTTGTATCGAGTGTGGTTTTGTAAATCCAGGCTTTGTCCAATGTGCAACTGGAGGAGAGCAATGAAACATGGCATTCAGTCACAAAAGGTTGTTGCTGAAGTTATTAAACAAAAGCCAACAGTTCGTTGGTTGTTTCTCACATTAACAGTTAAAAATGTTTATGATGGCGAAGAATTAAATAAGAGTTTGTCAGATATGGCTCAAGGATTTCGCCGAATGATGCAATATAAAAAAATTAATAAAAATCTTGTTGGTTTTATGCGTGCAACGGAAGTGACAATAAATAATAAAGATAATTCTTATAATCAGCACATGCATGTATTGGTATGTGTGGAACCAACTTATTTTAAGAATACAGAAAACTACGTGAATCAAAAACAATGGATTCAATTTTGGAAAAAGGCAATGAAATTAGACTATGATCCAAATGTAAAAGTTCAAATGATTCGACCGAAAAATAAATATAAATCGGATATACAATCGGCAATTGACGAAACTGCAAAATATCCTGTAAAGGATACGGATTTTATGACCGATGATGAAGAAAAGAATTTGAAACGTTTGTCTGATTTGGAGGAAGGTTTACACCGTAAAAGGTTAATCTCCTATGGTGGTTTGTTAAAAGAAATACATAAAAAATTAAACCTTGATGACACAGAAGAAGGCGATTTGATTCATACAGATGATGACGAAAAAGCCGATGAAGATGGATTTTCTATTATTGCAATGTGGAATTGGGAACGGAAAAATTATTTTATTAAAGAGTAG\n",
            "NC_019052.1:2941-3711\n",
            "ATGAGAATAGTGAATGGACCAATAATAATGACTAGAGAAGAAAGAATGAAGATTGTTCATGAAATTAAGGAACGAATATTGGATAAATATGGGGATGATGTTAAGGCTATTGGTGTTTATGGCTCTCTTGGTCGTCAGACTGATGGGCCCTATTCGGATATTGAGATGATGTGTGTCATGTCAACAGAGGAAGCAGAGTTCAGCCATGAATGGACAACCGGTGAGTGGAAGGTGGAAGTGAATTTTGATAGCGAAGAGATTCTACTAGATTATGCATCTCAGGTGGAATCAGATTGGCCGCTTACACATGGTCAATTTTTCTCTATTTTGCCGATTTATGATTCAGGTGGATACTTAGAGAAAGTGTATCAAACTGCTAAATCGGTAGAAGCCCAAACGTTCCACGATGCGATTTGTGCCCTTATCGTAGAAGAGCTGTTTGAATATGCAGGCAAATGGCGTAATATTCGTGTGCAAGGACCGACAACATTTCTACCATCCTTGACTGTACAGGTAGCAATGGCAGGTGCCATGTTGATTGGTCTGCATCATCGCATCTGTTATACGACGAGCGCTTCGGTCTTAACTGAAGCAGTTAAGCAATCAGATCTTCCTTCAGGTTATGACCATCTGTGCCAGTTCGTAATGTCTGGTCAACTTTCCGACTCTGAGAAACTTCTGGAATCGCTAGAGAATTTCTGGAATGGGATTCAGGAGTGGACAGAACGACACGGATATATAGTGGATGTGTCAAAACGCATACCATTTTGA\n",
            "NC_025021.1:4551-5756\n",
            "ATGAATAGTTCGACAAAGATCGCATTGGTAATTACGTTACTCGATGCCATGGGGATTGGCCTTATCATGCCAGTCTTGCCAACGTTATTACGTGAATTTATTGCTTCGGAAGATATCGCTAACCACTTTGGCGTATTGCTTGCACTTTATGCGTTAATGCAGGTTATCTTTGCTCCTTGGCTTGGAAAAATGTCTGACCGATTTGGTCGGCGCCCAGTGCTGTTGTTGTCATTAATAGGCGCATCGCTGGATTACTTATTGCTGGCTTTTTCAAGTGCGCTTTGGATGCTGTATTTAGGCCGTTTGCTTTCAGGGATCACAGGAGCTACTGGGGCTGTCGCGGCATCGGTCATTGCCGATACCACCTCAGCTTCTCAACGCGTGAAGTGGTTCGGTTGGTTAGGGGCAAGTTTTGGGCTTGGTTTAATAGCGGGGCCTATTATTGGTGGTTTTGCAGGAGAGATTTCACCGCATAGTCCCTTTTTTATCGCTGCGTTGCTAAATATTGTCACTTTCCTTGTGGTTATGTTTTGGTTCCGTGAAACCAAAAATACACGTGATAATACAGATACCGAAGTAGGGGTTGAGACGCAATCGAATTCGGTATACATCACTTTATTTAAAACGATGCCCATTTTGTTGATTATTTATTTTTCAGCGCAATTGATAGGCCAAATTCCCGCAACGGTGTGGGTGCTATTTACCGAAAATCGTTTTGGATGGAATAGCATGATGGTTGGCTTTTCATTAGCGGGTCTTGGTCTTTTACACTCAGTATTCCAAGCCTTTGTGGCAGGAAGAATAGCCACTAAATGGGGCGAAAAAACGGCAGTACTGCTCGAATTTATTGCAGATAGTAGTGCATTTGCCTTTTTAGCGTTTATATCTGAAGGTTGGTTAGATTTCCCTGTTTTAATTTTATTGGCTGGTGGTGGGATCGCTTTACCTGCATTACAGGGAGTGATGTCTATCCAAACAAAGAGTCATGAGCAAGGTGCTTTACAGGGATTATTGGTGAGCCTTACCAATGCAACCGGTGTTATTGGCCCATTACTGTTTACTGTTATTTATAATCATTCACTACCAATTTGGGATGGCTGGATTTGGATTATTGGTTTAGCGTTTTACTGTATTATTATCCTGCTATCGATGACCTTCATGTTAACCCCTCAAGCTCAGGGGAGTAAACAGGAGACAAGTGCTTAG\n",
            "NC_025021.1:c4202-3489\n",
            "ATGAGCACAAAAAAGAAACCATTAACACAAGAGCAGCTTGAGGACGCACGTCGCCTTAAAGCAATTTATGAAAAAAAGAAAAATGAACTTGGCTTATCCCAGGAATCTGTCGCAGACAAGATGGGGATGGGGCAGTCAGGCGTTGGTGCTTTATTTAATGGCATCAATGCATTAAATGCTTATAACGCCGCATTGCTTGCAAAAATTCTCAAAGTTAGCGTTGAAGAATTTAGCCCTTCAATCGCCAGAGAAATCTACGAGATGTATGAAGCGGTTAGTATGCAGCCGTCACTTAGAAGTGAGTATGAGTACCCTGTTTTTTCTCATGTTCAGGCAGGGATGTTCTCACCTGAGCTTAGAACCTTTACCAAAGGTGATGCGGAGAGATGGGTAAGCACAACCAAAAAAGCCAGTGATTCTGCATTCTGGCTTGAGGTTGAAGGTAATTCCATGACCGCACCAACAGGCTCCAAGCCAAGCTTTCCTGACGGAATGTTAATTCTCGTTGACCCTGAGCAGGCTGTTGAGCCAGGTGATTTCTGCATAGCCAGACTTGGGGGTGATGAGTTTACCTTCAAGAAACTGATCAGGGATAGCGGTCAGGTGTTTTTACAACCACTAAACCCACAGTACCCAATGATCCCATGCAATGAGAGTTGTTCCGTTGTGGGGAAAGTTATCGCTAGTCAGTGGCCTGAAGAGACGTTTGGCTGA\n"
          ]
        }
      ]
    },
    {
      "cell_type": "markdown",
      "source": [
        "### Criando novo arquivo filtrado"
      ],
      "metadata": {
        "id": "2XJ-jV95mI4f"
      }
    },
    {
      "cell_type": "code",
      "source": [
        "# Abrindo arquivo\n",
        "myfile = SeqIO.parse('sequences.fasta', 'fasta')\n",
        "\n",
        "# Filtrando informações\n",
        "dados_editados = []\n",
        "for i in myfile:\n",
        "  rotulo = i.id\n",
        "  descricao = i.description\n",
        "  sequencia = i.seq.translate()\n",
        "\n",
        "  # SeqRecord organizando dados filtrados\n",
        "  temp_var = SeqRecord(id = rotulo, description = '', seq = sequencia)\n",
        "\n",
        "  # Gravando dados filtrados na lista vazia 'dados_editados'\n",
        "  dados_editados.append(temp_var)\n",
        "\n",
        "# Mostrando dados filtrados organizados\n",
        "print('Dados organizados com SeqRecord:')\n",
        "print(dados_editados)\n",
        "\n",
        "# Criando novo arquivo fasta com os dados filtrados\n",
        "SeqIO.write(dados_editados, 'sequences_edited.fasta', 'fasta')"
      ],
      "metadata": {
        "colab": {
          "base_uri": "https://localhost:8080/"
        },
        "id": "Ne2ZLTAYikbs",
        "outputId": "47a47db2-6122-4868-fbd5-be5bc656c7c4"
      },
      "execution_count": null,
      "outputs": [
        {
          "output_type": "stream",
          "name": "stdout",
          "text": [
            "Dados organizados com SeqRecord:\n",
            "[SeqRecord(seq=Seq('MCPNSSIYSDEKSRVLVDKTKSGKVRPWREKKIANVDYFELLHILEFKKAERVK...KE*'), id='NC_019051.1:2063-3046', name='<unknown name>', description='', dbxrefs=[]), SeqRecord(seq=Seq('MRIVNGPIIMTREERMKIVHEIKERILDKYGDDVKAIGVYGSLGRQTDGPYSDI...PF*'), id='NC_019052.1:2941-3711', name='<unknown name>', description='', dbxrefs=[]), SeqRecord(seq=Seq('MNSSTKIALVITLLDAMGIGLIMPVLPTLLREFIASEDIANHFGVLLALYALMQ...SA*'), id='NC_025021.1:4551-5756', name='<unknown name>', description='', dbxrefs=[]), SeqRecord(seq=Seq('MSTKKKPLTQEQLEDARRLKAIYEKKKNELGLSQESVADKMGMGQSGVGALFNG...FG*'), id='NC_025021.1:c4202-3489', name='<unknown name>', description='', dbxrefs=[])]\n"
          ]
        },
        {
          "output_type": "execute_result",
          "data": {
            "text/plain": [
              "4"
            ]
          },
          "metadata": {},
          "execution_count": 8
        }
      ]
    }
  ]
}